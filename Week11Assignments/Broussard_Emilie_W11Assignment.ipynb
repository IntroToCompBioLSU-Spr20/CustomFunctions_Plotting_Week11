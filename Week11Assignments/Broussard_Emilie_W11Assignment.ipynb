{
 "cells": [
  {
   "cell_type": "markdown",
   "metadata": {},
   "source": [
    "# Week 11 Assignment - Custom Functions and Plotting"
   ]
  },
  {
   "cell_type": "raw",
   "metadata": {},
   "source": [
    "# Write a function that will read in this week's county-level covid data (\"covidData_4.7.20.csv\") and create a line plot showing increases in cumulative case counts or deaths through time for  a particular state. The line plot should have labeled axes and a grid.\n",
    "\n",
    "The function should accept two arguments. The first argument should be the name of the state. The second should indicate whether the user wants to plot case counts or deaths (defaulting to case counts). You will need to write a second function that calculates the case counts per state per day, summing across counties/parishes.\n",
    "\n",
    "As always, remember to document your code, including docstrings for functions.\n",
    "\n",
    "NOTE 1: One thing that tripped me up initially - not all counties/parishes have fips codes in this dataset. So that field may be empty for some lines in the file.\n",
    "\n",
    "NOTE 2: Remember that when you first read from a file, everything is considered a string. To get proper plots, you'll need to convert numbers stored as strings to actual numbers."
   ]
  },
  {
   "cell_type": "code",
   "execution_count": null,
   "metadata": {},
   "outputs": [],
   "source": [
    "# Import needed modules here\n",
    "\n",
    "import matplotlib.pyplot as plt\n",
    "import numpy as np\n",
    "import re"
   ]
  },
  {
   "cell_type": "code",
   "execution_count": null,
   "metadata": {},
   "outputs": [],
   "source": [
    "#create function by defining it, with \"state\" representing the first argument and \"type\" representing the second, with casect set as the default\n",
    "def covidDataPlot(state,type=\"casect\"):\n",
    "    #describe what your function does\n",
    "    \"\"\"Define what state is being used, and whether case counts or death counts are being plotted\"\"\"  \n",
    "            \n",
    "    print(\"We will calculate the %s for the state of %s\" % (type,state))\n",
    "    \n",
    "    #Open data file to read from\n",
    "    dataFile = open(\"covidData_4.7.20.csv\",'r')\n",
    "\n",
    "    #Pull data for that state\n",
    "    stateData = re.findall(r\"(.*),.*,%s,.*,(.*),.*\" % state,dataFile.read())\n",
    "        \n",
    "    #Call calcCaseCount to calculate the case count\n",
    "    count = calcCaseCount(stateData)\n",
    "    \n",
    "    \n",
    "    #Create line plot, with case count as the y axis and day for the x axis\n",
    "    plt.plot(count,\"red\",linewidth=3)\n",
    "    #Create and label axes\n",
    "    plt.ylabel(\"Number of Cases\")\n",
    "    plt.xlabel(\"Day\")\n",
    "    #Add grid\n",
    "    plt.grid(True)\n",
    "    #Show plot\n",
    "    plt.show()\n",
    "    \n",
    "\n",
    "\n",
    "\n",
    "#second function to calculate case counts per day\n",
    "def calcCaseCount(data):\n",
    "    \"\"\"Calculate the case count per day for a state\"\"\"\n",
    "        \n",
    "    statectDict = {}\n",
    "    date = []\n",
    "    \n",
    "    for i in data:\n",
    "        print(i)\n",
    "        if i[0] not in date:\n",
    "            statectDict.update({i[0]:int(i[1])})\n",
    "            date.append(i[0])\n",
    "        else:\n",
    "            statectDict[i[0]] += int(i[1])\n",
    "            \n",
    "    stateCounts = []\n",
    "    for day in date:\n",
    "        stateCounts.append(statectDict[day])\n",
    "        \n",
    "    return stateCounts\n",
    "    "
   ]
  },
  {
   "cell_type": "code",
   "execution_count": null,
   "metadata": {},
   "outputs": [],
   "source": [
    "# Use your function to create a plot here\n",
    "\n",
    "#Call function\n",
    "covidDataPlot(\"Louisiana\")"
   ]
  },
  {
   "cell_type": "markdown",
   "metadata": {},
   "source": [
    "Write a second function that is similar to the first, but shows increases in cumulative case counts or deaths through time for a particular county/parish in a particular state.\n",
    "\n",
    "The function should accept three arguments. The first argument should be the name of the county/parish. The second should be the name of the state. The third should indicate whether the user wants to plot case counts or deaths (defaulting to case counts).\n",
    "\n",
    "As always, remember to document your code, including docstrings for functions."
   ]
  },
  {
   "cell_type": "code",
   "execution_count": null,
   "metadata": {
    "scrolled": true
   },
   "outputs": [],
   "source": [
    "#Open data file to read from\n",
    "dataFiles = open(\"covidData_4.7.20.csv\",'r')\n",
    "\n",
    "#Create function that accepts county/parish, state, and case/death count as arguments\n",
    "def countyLevelCovid(county,state,type=\"casect\"):\n",
    "    \"\"\"This function shows the increase in cumulative case counts or deaths through time for any county or parish in a state\"\"\"\n",
    "    print(\"We will calculate the %s for the county %s in the state of %s\" % (type,county,state)\n",
    "    \n",
    "    #Pull data for that state\n",
    "    stateData = re.findall(r\".*,.*,%s,.*,.*,.*\" % state,dataFile.read())\n",
    "    #Then pull data for that particular county/parish\n",
    "    countyData = re.findall(r\"(.*),%s,.*,.*,(.*),.*\" % county,stateData)\n",
    "\n",
    "    #call calcCaseCount to calculate the case count\n",
    "    count = calcCaseCount(countyData)\n",
    "          \n",
    "    #Create line plot, with case count as the y axis and day for the x axis\n",
    "    plt.plot(count,\"red\",linewidth=3)\n",
    "    #Create and label axes\n",
    "    plt.ylabel(\"Number of Cases\")\n",
    "    plt.xlabel(\"Day\")\n",
    "    #Add grid\n",
    "    plt.grid(True)\n",
    "    #Show plot\n",
    "    plt.show()\n",
    "\n",
    "          \n",
    "#Second function calculate case county increasing over time\n",
    "def calcCaseCount(data):\n",
    "    \"\"\"Calculate the case count per day for a state\"\"\"\n",
    "        \n",
    "    countyctDict = {}\n",
    "    date = []\n",
    "    \n",
    "    for i in data:\n",
    "        print(i)\n",
    "        if i[0] not in date:\n",
    "            countyctDict.update({i[0]:int(i[1])})\n",
    "            date.append(i[0])\n",
    "        else:\n",
    "            countyctDict[i[0]] += int(i[1])\n",
    "            \n",
    "    countyCounts = []\n",
    "    for day in date:\n",
    "        countyCounts.append(countyctDict[day])\n",
    "        \n",
    "    return countyCounts"
   ]
  },
  {
   "cell_type": "code",
   "execution_count": null,
   "metadata": {},
   "outputs": [],
   "source": [
    "# Use your function to create a plot here\n",
    "\n",
    "#Call function\n",
    "countyLevelCovid(\"Lafayette\",\"Louisiana\")"
   ]
  }
 ],
 "metadata": {
  "kernelspec": {
   "display_name": "Python 3",
   "language": "python",
   "name": "python3"
  },
  "language_info": {
   "codemirror_mode": {
    "name": "ipython",
    "version": 3
   },
   "file_extension": ".py",
   "mimetype": "text/x-python",
   "name": "python",
   "nbconvert_exporter": "python",
   "pygments_lexer": "ipython3",
   "version": "3.6.4"
  }
 },
 "nbformat": 4,
 "nbformat_minor": 4
}
