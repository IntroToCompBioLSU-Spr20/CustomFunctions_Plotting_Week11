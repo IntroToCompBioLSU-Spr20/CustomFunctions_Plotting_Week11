{
 "cells": [
  {
   "cell_type": "markdown",
   "metadata": {},
   "source": [
    "# Week 11 Assignment - Custom Functions and Plotting"
   ]
  },
  {
   "cell_type": "markdown",
   "metadata": {},
   "source": [
    "Write a function that will read in this week's county-level covid data (\"covidData_4.7.20.csv\") and create a line plot showing increases in cumulative case counts or deaths through time for  a particular state. The line plot should have labeled axes and a grid.\n",
    "\n",
    "The function should accept two arguments. The first argument should be the name of the state. The second should indicate whether the user wants to plot case counts or deaths (defaulting to case counts). You will need to write a second function that calculates the case counts per state per day, summing across counties/parishes.\n",
    "\n",
    "As always, remember to document your code, including docstrings for functions.\n",
    "\n",
    "NOTE 1: One thing that tripped me up initially - not all counties/parishes have fips codes in this dataset. So that field may be empty for some lines in the file.\n",
    "\n",
    "NOTE 2: Remember that when you first read from a file, everything is considered a string. To get proper plots, you'll need to convert numbers stored as strings to actual numbers."
   ]
  },
  {
   "cell_type": "code",
   "execution_count": 29,
   "metadata": {},
   "outputs": [],
   "source": [
    "# Import needed modules here\n",
    "\n",
    "import re\n",
    "import matplotlib.pyplot as plt\n",
    "import numpy as np\n",
    "import copy"
   ]
  },
  {
   "cell_type": "code",
   "execution_count": 30,
   "metadata": {},
   "outputs": [],
   "source": [
    "def stateData(state,data = \"cases\"):\n",
    "    \"\"\"This function will be able to read this week's county-level covid-19 data and construct variables to create a line plot\"\"\"\n",
    "    covidData = open(\"covidData_4.7.20.csv\",\"r\") #opens the county-level covid data\n",
    "    dataCases = {}\n",
    "    dataDeaths = {}\n",
    "    #for loop will count every case and death for every state due to covid-19\n",
    "    for i in covidData:\n",
    "        if state in i:\n",
    "              date, county, state, fips, cases, deaths = i.split(\",\")\n",
    "              if data == \"cases\":\n",
    "                  case = int(cases)#integer providing total cases\n",
    "                  if date in dataCases:\n",
    "                      dataCases[date] += case\n",
    "                  else:\n",
    "                      dataCases[date] = case\n",
    "              elif data == \"deaths\":\n",
    "                  death = int(deaths)#integer providing total deaths\n",
    "                  if date in dataDeaths:\n",
    "                      dataDeaths[date] += death\n",
    "                  else:\n",
    "                      dataDeaths[date] = death\n",
    "    covidData.close()\n",
    "    xVar = []# this code will generate the x variable\n",
    "    yVar = []# this code will generate the y variable\n",
    "    #code assigning the x and y variables to specific data\n",
    "    xVar = list(dataCases.keys())\n",
    "    if data == \"cases\":\n",
    "        yVar = list(dataCases.values())\n",
    "    elif data == \"deaths\":\n",
    "        yVar = list(dataDeaths.values())\n",
    "    return xVar, yVar #return coordinate/plot"
   ]
  },
  {
   "cell_type": "code",
   "execution_count": 31,
   "metadata": {},
   "outputs": [
    {
     "name": "stdout",
     "output_type": "stream",
     "text": [
      "Enter a state: New Jersey\n",
      "Enter cases or deaths: cases\n"
     ]
    },
    {
     "data": {
      "image/png": "[encoded data removed]",
      "text/plain": [
       "<matplotlib.figure.Figure at 0x7f1e9e88e6a0>"
      ]
     },
     "metadata": {},
     "output_type": "display_data"
    }
   ],
   "source": [
    "# Use your function to create a plot here\n",
    "stateInput = input(\"Enter a state: \") #code allows for any state to be entered\n",
    "dataInput = input(\"Enter cases or deaths: \") #code that will enter the cases or deaths for the state\n",
    "xaxis, yaxis = stateData(state = stateInput, data = dataInput) #this code shows the data to be entered for the x and y variables\n",
    "#codes below will set up plot and label specific parts of the plot\n",
    "plt.figure()\n",
    "plt.xlabel(\"Date\") #what will show on the x axis\n",
    "plt.ylabel(\"Number of {} in {}\".format(dataInput,stateInput))#what will show on the y axis\n",
    "plt.xticks(rotation=90) #coding for 90 degree rotation of x axis\n",
    "plt.grid(True) #code for adding a grid\n",
    "plt.plot(xaxis, yaxis)\n",
    "plt.show()#code to display plot"
   ]
  },
  {
   "cell_type": "markdown",
   "metadata": {},
   "source": [
    "Write a second function that is similar to the first, but shows increases in cumulative case counts or deaths through time for a particular county/parish in a particular state.\n",
    "\n",
    "The function should accept three arguments. The first argument should be the name of the county/parish. The second should be the name of the state. The third should indicate whether the user wants to plot case counts or deaths (defaulting to case counts).\n",
    "\n",
    "As always, remember to document your code, including docstrings for functions."
   ]
  },
  {
   "cell_type": "code",
   "execution_count": 32,
   "metadata": {},
   "outputs": [],
   "source": [
    "# Your code here\n",
    "def countyData(county,state,data = \"cases\"):\n",
    "    \"\"\"This function will be able to read this week's county-level covid-19 data and construct variables to create a line plot for each county in each state\"\"\"\n",
    "    covidData = open(\"covidData_4.7.20.csv\",\"r\") #opens the county-level covid data\n",
    "    dataCases = {}\n",
    "    dataDeaths = {}\n",
    "    #for loop will count every case and death for each county in every state due to covid-19\n",
    "    for i in covidData:\n",
    "        if county in i and state in i:\n",
    "              date, county, state, fips, cases, deaths = i.split(\",\")\n",
    "              if data == \"cases\":\n",
    "                  case = int(cases)#integer for cases\n",
    "                  if date in dataCases: #providing total cases\n",
    "                      dataCases[date] += case\n",
    "                  else:\n",
    "                      dataCases[date] = case\n",
    "              elif data == \"deaths\":\n",
    "                  death = int(deaths)#integer for deaths\n",
    "                  if date in dataDeaths: #providing total deaths\n",
    "                      dataDeaths[date] += death\n",
    "                  else:\n",
    "                      dataDeaths[date] = death\n",
    "    covidData.close()\n",
    "    xVar = []# this code will generate the x variable\n",
    "    yVar = []# this code will generate the y variable\n",
    "    #code assigning the x and y variables to specific data\n",
    "    xVar = list(dataCases.keys())\n",
    "    if data == \"cases\":\n",
    "        yVar = list(dataCases.values())\n",
    "    elif data == \"deaths\":\n",
    "        yVar = list(dataDeaths.values())\n",
    "    return xVar, yVar #return coordinate/plot\n"
   ]
  },
  {
   "cell_type": "code",
   "execution_count": 33,
   "metadata": {},
   "outputs": [
    {
     "name": "stdout",
     "output_type": "stream",
     "text": [
      "Ener a county: Orleans\n",
      "Enter a state: Louisiana\n",
      "Enter cases or deaths: cases\n"
     ]
    },
    {
     "data": {
      "image/png": "[encoded data removed]",
      "text/plain": [
       "<matplotlib.figure.Figure at 0x7f1e9e88eb38>"
      ]
     },
     "metadata": {},
     "output_type": "display_data"
    }
   ],
   "source": [
    "# Use your function to create a plot here\n",
    "#code for inputing county, state, cases or deaths\n",
    "countyInput = input(\"Ener a county: \")\n",
    "stateInput = input(\"Enter a state: \")\n",
    "dataInput = input(\"Enter cases or deaths: \")\n",
    "xaxis, yaxis = countyData(county = countyInput, state = stateInput, data = dataInput)#code assigning specific data to x axis and y axis\n",
    "#codes below will set up plot and label specific parts of graph\n",
    "plt.figure()\n",
    "plt.xlabel(\"Date\") #what will show on the x axis\n",
    "plt.ylabel(\"Number of {} in {}\".format(dataInput,countyInput)) #what will show on the y axis\n",
    "plt.xticks(rotation=90) #coding for 90 degree rotation of x axis\n",
    "plt.grid(True) #code for adding a grid\n",
    "plt.plot(xaxis, yaxis)\n",
    "plt.show() #code to display plot"
   ]
  },
  {
   "cell_type": "code",
   "execution_count": null,
   "metadata": {},
   "outputs": [],
   "source": []
  }
 ],
 "metadata": {
  "kernelspec": {
   "display_name": "Python 3",
   "language": "python",
   "name": "python3"
  },
  "language_info": {
   "codemirror_mode": {
    "name": "ipython",
    "version": 3
   },
   "file_extension": ".py",
   "mimetype": "text/x-python",
   "name": "python",
   "nbconvert_exporter": "python",
   "pygments_lexer": "ipython3",
   "version": "3.6.4"
  }
 },
 "nbformat": 4,
 "nbformat_minor": 4
}
