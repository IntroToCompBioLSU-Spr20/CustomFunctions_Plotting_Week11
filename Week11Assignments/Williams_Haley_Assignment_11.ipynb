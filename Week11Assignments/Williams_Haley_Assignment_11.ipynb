{
 "cells": [
  {
   "cell_type": "code",
   "execution_count": 5,
   "metadata": {},
   "outputs": [],
   "source": [
    "import requests\n",
    "\n",
    "url= 'https://github.com/IntroToCompBioLSU-Spr20/CustomFunctions_Plotting_Week11/blob/master/covidData_4.7.20.csv'\n",
    "\n",
    "r=requests.get(url)\n",
    "\n",
    "with open(\"covidData.csv\",\"wb\") as code:\n",
    "\n",
    "    code.write(r.content)\n",
    "\n",
    "# Import needed modules here\n",
    "\n",
    "import re\n",
    "\n",
    "import matplotlib.pyplot as plt\n",
    "\n",
    "import numpy as np\n",
    "\n",
    "import copy"
   ]
  },
  {
   "cell_type": "code",
   "execution_count": 13,
   "metadata": {},
   "outputs": [
    {
     "name": "stdout",
     "output_type": "stream",
     "text": [
      "Enter a state:Louisiana\n",
      "Enter a statistic either cases or deaths:cases\n"
     ]
    },
    {
     "data": {
      "image/png": "[encoded data removed]",
      "text/plain": [
       "<matplotlib.figure.Figure at 0x7fe990aa0358>"
      ]
     },
     "metadata": {},
     "output_type": "display_data"
    }
   ],
   "source": [
    "def effectOnState(covidData ='covidData.csv', state = 'Louisiana', data= 'cases'):\n",
    "    \"\"\"Refers to covidData.csv file, and automatically narrows down to data from input state and statistic type either cases or deaths.\"\"\"\n",
    "    cumulativeTotal = []\n",
    "    #Opens file and generates a list of dates from the input state ensuring no date is repeated \n",
    "    with open(covidData,'r') as file:\n",
    "            dates = re.findall(r\"(.+),.+,{},.+,.+,.+\".format(state),file.read())\n",
    "            listOfDates = []\n",
    "            for i in dates:\n",
    "                if i in listOfDates:\n",
    "                    pass\n",
    "                # appends the sum at that date to the list from the beginning of the function for cumulative totals\n",
    "                elif i not in listOfDates:\n",
    "                    listOfDates.append(i)\n",
    "            file.close()\n",
    "# Checks if the input is cases \n",
    "    if data == \"cases\": \n",
    "# For each date in listOfDates\n",
    "        for date in listOfDates: \n",
    "            with open(covidData, 'r') as file:\n",
    "                casesOnSameDate = re.findall(r'{},.+,{},.+,(.+),.+'.format(date,state),file.read())\n",
    "                casesOnSameDate = [int(i) for i in casesOnSameDate]\n",
    "                # adds the count of cases in every county of specified state on that date\n",
    "                cumulativeTotal.append(sum(casesOnSameDate)) \n",
    "\n",
    "\n",
    "            file.close()\n",
    "#Checks if input is deaths\n",
    "    elif data == \"deaths\":\n",
    "        for date in listOfDates:\n",
    "            with open(covidData, 'r') as file:\n",
    "                deathsOnSameDate = re.findall(r'{},.+,{},.+,.+,(.+)'.format(date,state),file.read())\n",
    "                deathsOnSameDate = [int(i) for i in deathsInSameDate]\n",
    "                # adds the count of deaths in every county of specified state on that date\n",
    "                cumulativeTotal.append(sum(deathsInSameDate))\n",
    "            file.close()\n",
    "    else:\n",
    "        print('Input error: statistic must be either cases or deaths')\n",
    "    \n",
    "    #Checks that listOfDates and cumulativeTotal are same length\n",
    "    if len(listOfDates) == len(cumulativeTotal): \n",
    "        #stores both values in a variable and returns them\n",
    "        length = [listOfDates,cumulativeTotal] \n",
    "        return length \n",
    "\n",
    "    else:\n",
    "        print(\"Functional Error\")     \n",
    "\n",
    "# Use your function to create a plot here\n",
    "#Prompts user for a state and stores input as a variable\n",
    "stateInput = input(\"Enter a state:\")\n",
    "#Prompts user for counts or deaths and stores input as a variable\n",
    "dataInput = input(\"Enter a statistic either cases or deaths:\") \n",
    "#creates a function using the inputs\n",
    "function = effectOnState(state = stateInput, data = dataInput) \n",
    "# Assign plt plot paramaters\n",
    "plt.figure(figsize = (4,4))\n",
    "plt.ylabel('Number of {} in {}'.format(dataInput, stateInput))\n",
    "plt.xlabel('Date')\n",
    "plt.xticks(rotation=90)\n",
    "plt.grid(True)\n",
    "plt.plot(function[0],function[1])\n",
    "plt.show()\n",
    "\n"
   ]
  },
  {
   "cell_type": "code",
   "execution_count": 11,
   "metadata": {},
   "outputs": [
    {
     "name": "stdout",
     "output_type": "stream",
     "text": [
      "Enter county:Jefferson\n",
      "Enter the state containing the input county:Louisiana\n",
      "Enter statistic either cases or deaths :deaths\n"
     ]
    },
    {
     "data": {
      "image/png": "[encoded data removed]",
      "text/plain": [
       "<matplotlib.figure.Figure at 0x7fe99075bf60>"
      ]
     },
     "metadata": {},
     "output_type": "display_data"
    }
   ],
   "source": [
    "def casesPerCounty(covidData = 'covidData.csv', county = 'Jefferson',state = 'Louisiana', data = 'cases'):\n",
    "    \"\"\"Refers to covidData.csv file, and shows input statistic type over time from input state and county.\"\"\"\n",
    "    cumulativeTotal = []\n",
    "\n",
    "    #Opens file and generates a list of dates from the input county and state\n",
    "    with open(covidData,'r') as file: \n",
    "        listOfDates = re.findall(r\"(.+),{},{},.+,.+,.+\".format(county,state),file.read()) \n",
    "        file.close()\n",
    "   # Checks if the input is cases \n",
    "    if data == 'cases': \n",
    "        for date in listOfDates:\n",
    "            with open(data, 'r') as file:\n",
    "                # For each date in listOfDates it finds the statistic based on state and county\n",
    "                casesOnSameDate = int(re.search(r'{},{},{},.+,(.+),.+'.format(date,county,state),file.read()).group(1)) \n",
    "                 #  Appends the statistic at date to cumulativeTotal\n",
    "                cumulativeTotal.append(casesOnSameDate)   \n",
    "                file.close()\n",
    "    elif data == 'deaths':\n",
    "        for date in listOfDates:\n",
    "            with open(data, 'r') as file:\n",
    "                deathsOnSameDate= int(re.search(r'{},{},{},.+,.+,(.+)'.format(date,county,state),file.read()).group(1))\n",
    "                cumulativeTotal.append(deathsOnSameDate)   \n",
    "                file.close()\n",
    "    else:\n",
    "        print('Input error: statistic must be either cases or deaths')\n",
    "#Checks that listOfDates and cumulativeTotal are same length\n",
    "    if len(listOfDates) == len(cumulativeTotal): \n",
    "  #stores both values in a variable and returns them\n",
    "        length = [listOfDates,cumulativeTotal] \n",
    "        return length \n",
    "\n",
    "    else:\n",
    "        print(\"Functional Error\")\n",
    "# Use your function to create a plot here\n",
    "#prompts user for inputs of county, state, and stattistic\n",
    "countyInput = input(\"Enter county:\") \n",
    "stateInput = input(\"Enter the state containing the input county:\") \n",
    "dataInput = input(\"Enter statistic either cases or deaths :\") \n",
    "#creates a function using the inputs\n",
    "function = casesPerCounty(county = countyInput, state = stateInput, data = dataInput) \n",
    "# assign plt plot paramaters\n",
    "plt.figure(figsize = (4,4))\n",
    "plt.ylabel('Number of {} in {}, {}'.format(dataInput,countyInput,stateInput))\n",
    "plt.xlabel('Date')\n",
    "plt.xticks(rotation=90)\n",
    "plt.grid(True)\n",
    "plt.plot(function[0],function[1])\n",
    "plt.show()\n"
   ]
  },
  {
   "cell_type": "code",
   "execution_count": null,
   "metadata": {},
   "outputs": [],
   "source": []
  }
 ],
 "metadata": {
  "kernelspec": {
   "display_name": "Python 3",
   "language": "python",
   "name": "python3"
  },
  "language_info": {
   "codemirror_mode": {
    "name": "ipython",
    "version": 3
   },
   "file_extension": ".py",
   "mimetype": "text/x-python",
   "name": "python",
   "nbconvert_exporter": "python",
   "pygments_lexer": "ipython3",
   "version": "3.6.4"
  }
 },
 "nbformat": 4,
 "nbformat_minor": 2
}
