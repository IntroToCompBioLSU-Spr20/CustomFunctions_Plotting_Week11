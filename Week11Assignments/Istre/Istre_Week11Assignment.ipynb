{
 "cells": [
  {
   "cell_type": "markdown",
   "metadata": {},
   "source": [
    "# Week 11 Assignment - Custom Functions and Plotting"
   ]
  },
  {
   "cell_type": "markdown",
   "metadata": {},
   "source": [
    "Write a function that will read in this week's county-level covid data (\"covidData_4.7.20.csv\") and create a line plot showing increases in cumulative case counts or deaths through time for  a particular state. The line plot should have labeled axes and a grid.\n",
    "\n",
    "The function should accept two arguments. The first argument should be the name of the state. The second should indicate whether the user wants to plot case counts or deaths (defaulting to case counts). You will need to write a second function that calculates the case counts per state per day, summing across counties/parishes.\n",
    "\n",
    "As always, remember to document your code, including docstrings for functions.\n",
    "\n",
    "NOTE 1: One thing that tripped me up initially - not all counties/parishes have fips codes in this dataset. So that field may be empty for some lines in the file.\n",
    "\n",
    "NOTE 2: Remember that when you first read from a file, everything is considered a string. To get proper plots, you'll need to convert numbers stored as strings to actual numbers."
   ]
  },
  {
   "cell_type": "code",
   "execution_count": 138,
   "metadata": {},
   "outputs": [],
   "source": [
    "# Import needed modules here\n",
    "import re\n",
    "import numpy as np\n",
    "import matplotlib.pyplot as plt"
   ]
  },
  {
   "cell_type": "code",
   "execution_count": 237,
   "metadata": {
    "scrolled": true
   },
   "outputs": [
    {
     "name": "stdout",
     "output_type": "stream",
     "text": [
      "[0, 0, 0, 0, 0, 0, 0, 0, 0, 0, 0, 0, 0, 0, 0, 0, 0, 0, 0, 0, 0, 0, 0, 0, 0, 0, 0, 0, 0, 0, 0, 0, 0, 0, 0, 0, 0, 0, 0, 0, 0, 1, 1, 2, 11, 22, 44, 89, 106, 142, 173, 217, 326, 421, 610, 732, 950, 1374, 2382, 4152, 7102, 10356, 15168, 20875, 25666, 33067, 38988, 44636, 53364, 59568, 67216, 75832, 83890, 92770, 102945, 114996, 122911, 130703]\n"
     ]
    }
   ],
   "source": [
    "#General idea for code: \n",
    "#The date, county, state, case number, and death number is pushed into a list.\n",
    "#The total case/death count is added for each state per day by adding all county case/death count for the day\n",
    "#It then plots Case/Death count vs Day, starting at 0 for both.\n",
    "\n",
    "# Open the most recent Covid19 data\n",
    "file = open(\"../covidData_4.7.20.csv\",\"r\")\n",
    "\n",
    "#Create a list of all states and their respective case/death count per day using regex\n",
    "#note: (?:) is a negative grouping that allows me to check if a group exists and ignores it in the list\n",
    "covid = re.findall(r\"(?<=\\d\\-)(\\d\\d\\-\\d\\d)(?:\\,)(.*?)(?:,)(\\w*\\s*\\w*)(?:,)(?:\\d*)(?:,)(\\d*)(?:,)(\\d*)\",file.read())\n",
    "\n",
    "file.close()\n",
    "\n",
    "# Define the two lists to be used in the plot\n",
    "days = [0]\n",
    "cd_num = [0]\n",
    "\n",
    "# Changeable Variables\n",
    "state = \"New York\"\n",
    "case_or_death = \"case\"\n",
    "\n",
    "# Function to gather all cases/deaths of an individual state and put into a list\n",
    "def c_dplot(state,c_d):\n",
    "    \"\"\"Take the state name and gathers all cases or deaths from it\"\"\"\n",
    "    \n",
    "    init_date = covid[0][0]\n",
    "    y=0\n",
    "    cd_tot=0\n",
    "    \n",
    "    for i in range(len(covid)):\n",
    "        #Checks if date is same as previous date to add to cd_tot variable\n",
    "        if init_date == covid[i][0]:\n",
    "            #Checks State\n",
    "            if state == covid[i][2]:\n",
    "                #Checks if death, else defaults to case count\n",
    "                if c_d == \"death\":\n",
    "                    cd_tot+=int(covid[i][4])\n",
    "                else:\n",
    "                    cd_tot+=int(covid[i][3])\n",
    "        \n",
    "        #Changes init_date to current date and adds previous dates cd_tot to cd_num\n",
    "        else:\n",
    "            init_date = covid[i][0]\n",
    "            cd_num.append(cd_tot)\n",
    "            cd_tot=0\n",
    "            \n",
    "            #Checks State\n",
    "            if state == covid[i][2]:\n",
    "                #Determines if death, else defaults to case count\n",
    "                if c_d == \"death\":\n",
    "                    cd_tot+=int(covid[i][4])\n",
    "                else: \n",
    "                    cd_tot+=int(covid[i][3])\n",
    "            #Adds another day to 'days[]'    \n",
    "            y+=1\n",
    "            days.append(y)\n",
    "            \n",
    "\n",
    "#main function\n",
    "c_dplot(state,case_or_death)\n",
    "#Prints the case/death number per day\n",
    "print(cd_num)\n",
    "\n"
   ]
  },
  {
   "cell_type": "code",
   "execution_count": 240,
   "metadata": {},
   "outputs": [
    {
     "data": {
      "text/plain": [
       "[<matplotlib.lines.Line2D at 0x1f014ca6b00>]"
      ]
     },
     "execution_count": 240,
     "metadata": {},
     "output_type": "execute_result"
    },
    {
     "data": {
      "image/png": "[encoded data removed]",
      "text/plain": [
       "<Figure size 432x288 with 1 Axes>"
      ]
     },
     "metadata": {
      "needs_background": "light"
     },
     "output_type": "display_data"
    }
   ],
   "source": [
    "plt.ylabel(\"Case/Death Count\")\n",
    "plt.xlabel(\"Day\")\n",
    "plt.grid(True)\n",
    "plt.plot(days,cd_num)"
   ]
  },
  {
   "cell_type": "markdown",
   "metadata": {},
   "source": [
    "Write a second function that is similar to the first, but shows increases in cumulative case counts or deaths through time for a particular county/parish in a particular state.\n",
    "\n",
    "The function should accept three arguments. The first argument should be the name of the county/parish. The second should be the name of the state. The third should indicate whether the user wants to plot case counts or deaths (defaulting to case counts).\n",
    "\n",
    "As always, remember to document your code, including docstrings for functions."
   ]
  },
  {
   "cell_type": "code",
   "execution_count": 244,
   "metadata": {},
   "outputs": [
    {
     "name": "stdout",
     "output_type": "stream",
     "text": [
      "[0, 0, 0, 0, 0, 0, 0, 0, 0, 0, 0, 0, 0, 0, 0, 0, 0, 0, 0, 0, 0, 0, 0, 0, 0, 0, 0, 0, 0, 0, 0, 0, 0, 0, 0, 0, 0, 0, 0, 0, 0, 0, 0, 0, 0, 0, 0, 0, 0, 0, 0, 1, 3, 3, 3, 3, 3, 4, 5, 6, 7, 9, 10, 10, 15, 15, 18, 23, 23, 23, 30, 32, 39, 39, 41, 44, 48, 57]\n"
     ]
    }
   ],
   "source": [
    "# Function to count total case counts per state per day using same states as Function 1\n",
    "days = [0]\n",
    "cd_num = [0]\n",
    "\n",
    "# Changeable Variables\n",
    "state = \"Washington\"\n",
    "case_or_death = \"death\"\n",
    "county = \"Snohomish\"\n",
    "\n",
    "# Function to gather all cases/deaths of an individual state and put into a list\n",
    "def c_dplot(state,c_d,county):\n",
    "    \"\"\"Take the state name and gathers all cases or deaths from it\"\"\"\n",
    "    \n",
    "    init_date = covid[0][0]\n",
    "    y=0\n",
    "    cd_tot=0\n",
    "    \n",
    "    for i in range(len(covid)):\n",
    "        #Checks if date is same as previous date to add to cd_tot variable\n",
    "        if init_date == covid[i][0]:\n",
    "            #Checks State\n",
    "            if state == covid[i][2]:\n",
    "                if county == covid[i][1]:\n",
    "                    #Checks if death, else defaults to case count\n",
    "                    if c_d == \"death\":\n",
    "                        cd_tot+=int(covid[i][4])\n",
    "                    else:\n",
    "                        cd_tot+=int(covid[i][3])\n",
    "        \n",
    "        #Changes init_date to current date and adds previous dates cd_tot to cd_num\n",
    "        else:\n",
    "            init_date = covid[i][0]\n",
    "            cd_num.append(cd_tot)\n",
    "            cd_tot=0\n",
    "            \n",
    "            #Checks State\n",
    "            if state == covid[i][2]:\n",
    "                #Checks County\n",
    "                if county == covid[i][1]:\n",
    "                    #Determines if death, else defaults to case count\n",
    "                    if c_d == \"death\":\n",
    "                        cd_tot+=int(covid[i][4])\n",
    "                    else: \n",
    "                        cd_tot+=int(covid[i][3])\n",
    "            #Adds another day to 'days[]'    \n",
    "            y+=1\n",
    "            days.append(y)\n",
    "            \n",
    "\n",
    "#main function\n",
    "c_dplot(state,case_or_death,county)\n",
    "print(cd_num)"
   ]
  },
  {
   "cell_type": "code",
   "execution_count": 245,
   "metadata": {},
   "outputs": [
    {
     "data": {
      "text/plain": [
       "[<matplotlib.lines.Line2D at 0x1f01480b278>]"
      ]
     },
     "execution_count": 245,
     "metadata": {},
     "output_type": "execute_result"
    },
    {
     "data": {
      "image/png": "[encoded data removed]",
      "text/plain": [
       "<Figure size 432x288 with 1 Axes>"
      ]
     },
     "metadata": {
      "needs_background": "light"
     },
     "output_type": "display_data"
    }
   ],
   "source": [
    "plt.ylabel(\"Case/Death Count\")\n",
    "plt.xlabel(\"Day\")\n",
    "plt.grid(True)\n",
    "plt.plot(days,cd_num)"
   ]
  },
  {
   "cell_type": "code",
   "execution_count": null,
   "metadata": {},
   "outputs": [],
   "source": []
  }
 ],
 "metadata": {
  "kernelspec": {
   "display_name": "Python 3",
   "language": "python",
   "name": "python3"
  },
  "language_info": {
   "codemirror_mode": {
    "name": "ipython",
    "version": 3
   },
   "file_extension": ".py",
   "mimetype": "text/x-python",
   "name": "python",
   "nbconvert_exporter": "python",
   "pygments_lexer": "ipython3",
   "version": "3.7.1"
  }
 },
 "nbformat": 4,
 "nbformat_minor": 4
}
