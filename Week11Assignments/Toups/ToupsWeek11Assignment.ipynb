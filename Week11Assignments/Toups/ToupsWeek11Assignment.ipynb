{
 "cells": [
  {
   "cell_type": "markdown",
   "metadata": {},
   "source": [
    "# Week 11 Assignment - Custom Functions and Plotting"
   ]
  },
  {
   "cell_type": "markdown",
   "metadata": {},
   "source": [
    "Write a function that will read in this week's county-level covid data (\"covidData_4.7.20.csv\") and create a line plot showing increases in cumulative case counts or deaths through time for  a particular state. The line plot should have labeled axes and a grid.\n",
    "\n",
    "The function should accept two arguments. The first argument should be the name of the state. The second should indicate whether the user wants to plot case counts or deaths (defaulting to case counts). You will need to write a second function that calculates the case counts per state per day, summing across counties/parishes.\n",
    "\n",
    "As always, remember to document your code, including docstrings for functions.\n",
    "\n",
    "NOTE 1: One thing that tripped me up initially - not all counties/parishes have fips codes in this dataset. So that field may be empty for some lines in the file.\n",
    "\n",
    "NOTE 2: Remember that when you first read from a file, everything is considered a string. To get proper plots, you'll need to convert numbers stored as strings to actual numbers."
   ]
  },
  {
   "cell_type": "code",
   "execution_count": 6,
   "metadata": {},
   "outputs": [
    {
     "data": {
      "text/plain": [
       "'/home/btoup15/IntroCompBio/Week11/Week11Assignments'"
      ]
     },
     "execution_count": 6,
     "metadata": {},
     "output_type": "execute_result"
    }
   ],
   "source": [
    "##############################\n",
    "#   Author: Benjamin Toups\n",
    "#      Date: 4/13/2020\n",
    "##############################\n",
    "\n",
    "# Import needed modules here\n",
    "import os\n",
    "import matplotlib.pyplot as plt\n",
    "import re\n",
    "os.getcwd()"
   ]
  },
  {
   "cell_type": "code",
   "execution_count": 7,
   "metadata": {},
   "outputs": [],
   "source": [
    "# Your code here...\n",
    "\n",
    "def stateCases(data = '/home/btoup15/IntroCompBio/Week11/covidData_4.7.20.csv', state = 'Louisiana', stat = 'cases'):\n",
    "    '''Accepts an input file, a state, and a statistic to display in order to display that statistic over time'''\n",
    "    cumulatives = []\n",
    "    # Opens the data file and creates a list of dates from the input state making sure that no one date appears twice\n",
    "    with open(data,'r') as f:\n",
    "        dates = re.findall(r'(.+),.+,{},.+,.+,.+'.format(state),f.read())\n",
    "        dateList = []\n",
    "        for i in dates:\n",
    "            if i in dateList:\n",
    "                pass\n",
    "            elif i not in dateList:\n",
    "                dateList.append(i)\n",
    "        f.close()\n",
    "    # Checks whether the input statistic is cases or deaths and proceeds accordingly\n",
    "    # For each date in the list of dates, sums the statistic for every reported county in the state at that date\n",
    "    # Finally, appends the sum at that date to the list of cumulative totals declared at the beginning of the function\n",
    "    if stat == 'cases':\n",
    "        for date in dateList:\n",
    "            with open(data, 'r') as f:\n",
    "                dateCases = re.findall(r'{},.+,{},.+,(.+),.+'.format(date,state),f.read())\n",
    "                dateCases = [int(i) for i in dateCases]\n",
    "                cumulatives.append(sum(dateCases))\n",
    "            f.close()\n",
    "    elif stat == 'deaths':\n",
    "        for date in dateList:\n",
    "            with open(data, 'r') as f:\n",
    "                dateDeaths = re.findall(r'{},.+,{},.+,.+,(.+)'.format(date,state),f.read())\n",
    "                dateDeaths = [int(i) for i in dateDeaths]\n",
    "                cumulatives.append(sum(dateDeaths))\n",
    "            f.close()\n",
    "    else:\n",
    "        print('Statistic input error')\n",
    "    #Checks to make sure the list of dates is the same length as the list of cumulative totals, and returns both if so\n",
    "    if len(dateList) == len(cumulatives):\n",
    "        out = [dateList,cumulatives]\n",
    "        return out\n",
    "    else:\n",
    "        print(\"There was an error in the function\")        "
   ]
  },
  {
   "cell_type": "code",
   "execution_count": 8,
   "metadata": {},
   "outputs": [
    {
     "name": "stdout",
     "output_type": "stream",
     "text": [
      "Enter a state to display: Louisiana\n",
      "Enter a statistic to display: deaths\n"
     ]
    },
    {
     "data": {
      "image/png": "[encoded data removed]",
      "text/plain": [
       "<matplotlib.figure.Figure at 0x7f7f0e86d5f8>"
      ]
     },
     "metadata": {},
     "output_type": "display_data"
    }
   ],
   "source": [
    "# Use your function to create a plot here\n",
    "\n",
    "# Prompts user inputs for state and statistic and calls the function using them\n",
    "stateIn = input(\"Enter a state to display: \")\n",
    "statIn = input(\"Enter a statistic to display: \")\n",
    "funcOut = stateCases(state = stateIn, stat = statIn)\n",
    "# Various plt plot paramaters\n",
    "plt.figure(figsize = (8,4))\n",
    "plt.ylabel('# of {} in {}'.format(statIn, stateIn))\n",
    "plt.xlabel('Date')\n",
    "plt.xticks(rotation=90)\n",
    "plt.grid(True)\n",
    "plt.plot(funcOut[0],funcOut[1])\n",
    "plt.show()"
   ]
  },
  {
   "cell_type": "markdown",
   "metadata": {},
   "source": [
    "Write a second function that is similar to the first, but shows increases in cumulative case counts or deaths through time for a particular county/parish in a particular state.\n",
    "\n",
    "The function should accept three arguments. The first argument should be the name of the county/parish. The second should be the name of the state. The third should indicate whether the user wants to plot case counts or deaths (defaulting to case counts).\n",
    "\n",
    "As always, remember to document your code, including docstrings for functions."
   ]
  },
  {
   "cell_type": "code",
   "execution_count": 9,
   "metadata": {},
   "outputs": [],
   "source": [
    "# Your code here...\n",
    "def countyCases(data = '/home/btoup15/IntroCompBio/Week11/covidData_4.7.20.csv', county = 'Jefferson',state = 'Louisiana', stat = 'cases'):\n",
    "    '''Accepts an input file, a state, and a statistic to display in order to display that statistic over time'''\n",
    "    cumulatives = []\n",
    "    # Opens the data file and creates a list of dates from the input state county\n",
    "    with open(data,'r') as f:\n",
    "        cumulatives = []\n",
    "        dateList = re.findall(r'(.+),{},{},.+,.+,.+'.format(county,state),f.read())\n",
    "        f.close()\n",
    "    # Checks whether the input statistic is cases or deaths and proceeds accordingly\n",
    "    # For each date in the list of dates, finds the statistic for the given date in the input state county\n",
    "    # Finally, appends the statistic at that date to the list of cumulative totals declared at the beginning of the function\n",
    "    if stat == 'cases':\n",
    "        for date in dateList:\n",
    "            with open(data, 'r') as f:\n",
    "                dateCases = int(re.search(r'{},{},{},.+,(.+),.+'.format(date,county,state),f.read()).group(1))\n",
    "                cumulatives.append(dateCases)   \n",
    "            f.close()\n",
    "    elif stat == 'deaths':\n",
    "        for date in dateList:\n",
    "            with open(data, 'r') as f:\n",
    "                dateCases = int(re.search(r'{},{},{},.+,.+,(.+)'.format(date,county,state),f.read()).group(1))\n",
    "                cumulatives.append(dateCases)   \n",
    "            f.close()\n",
    "    else:\n",
    "        print('Statistic input error')\n",
    "    #Checks to make sure the list of dates is the same length as the list of cumulative totals, and returns both if so\n",
    "    if len(dateList) == len(cumulatives):\n",
    "        out = [dateList,cumulatives]\n",
    "        return out\n",
    "    else:\n",
    "        print(\"There was an error in the function\")"
   ]
  },
  {
   "cell_type": "code",
   "execution_count": 10,
   "metadata": {},
   "outputs": [
    {
     "name": "stdout",
     "output_type": "stream",
     "text": [
      "Enter a county to display: Jefferson\n",
      "Enter the state in which the county resides: Louisiana\n",
      "Enter a statistic to display: cases\n"
     ]
    },
    {
     "data": {
      "image/png": "[encoded data removed]",
      "text/plain": [
       "<matplotlib.figure.Figure at 0x7f7f0c3a7908>"
      ]
     },
     "metadata": {},
     "output_type": "display_data"
    }
   ],
   "source": [
    "# Use your function to create a plot here\n",
    "\n",
    "# Prompts user inputs for county, state, and statistic and calls the function using them\n",
    "countyIn = input(\"Enter a county to display: \")\n",
    "stateIn = input(\"Enter the state in which the county resides: \")\n",
    "statIn = input(\"Enter a statistic to display: \")\n",
    "funcOut = countyCases(county = countyIn, state = stateIn, stat = statIn)\n",
    "# Various plt plot paramaters\n",
    "plt.figure(figsize = (8,4))\n",
    "plt.ylabel('# of {} in {}, {}'.format(statIn,countyIn,stateIn))\n",
    "plt.xlabel('Date')\n",
    "plt.xticks(rotation=90)\n",
    "plt.grid(True)\n",
    "plt.plot(funcOut[0],funcOut[1])\n",
    "plt.show()"
   ]
  },
  {
   "cell_type": "code",
   "execution_count": null,
   "metadata": {},
   "outputs": [],
   "source": []
  }
 ],
 "metadata": {
  "kernelspec": {
   "display_name": "Python 3",
   "language": "python",
   "name": "python3"
  },
  "language_info": {
   "codemirror_mode": {
    "name": "ipython",
    "version": 3
   },
   "file_extension": ".py",
   "mimetype": "text/x-python",
   "name": "python",
   "nbconvert_exporter": "python",
   "pygments_lexer": "ipython3",
   "version": "3.6.4"
  }
 },
 "nbformat": 4,
 "nbformat_minor": 4
}
